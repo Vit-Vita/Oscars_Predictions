{
 "cells": [
  {
   "cell_type": "code",
   "execution_count": null,
   "id": "3e4f55e3-52d1-44c5-9a85-5bb27be7f48a",
   "metadata": {},
   "outputs": [],
   "source": [
    "# Module Imports\n",
    "import mariadb\n",
    "import sys\n",
    "import pandas as pd\n",
    "import sqlalchemy\n",
    "import json\n",
    "from sqlalchemy import MetaData, Table, Column, VARCHAR"
   ]
  },
  {
   "cell_type": "code",
   "execution_count": null,
   "id": "e8b6f6e7-88c3-4d0b-8133-47a2f20c1adb",
   "metadata": {},
   "outputs": [],
   "source": [
    "# Connect to MariaDB Platform\n",
    "user=\"cip_user\"\n",
    "password=\"cip_pw\"\n",
    "host=\"127.0.0.1\"                         # 10.177.124.185,  localhost , 127.0.0.1     \n",
    "#host=\"10.177.124.35\"                    # 10.177.124.35,  localhost , 127.0.0.1    FS23\n",
    "port=3306\n",
    "database=\"CIP\"\n",
    "engine = sqlalchemy.create_engine(f\"mariadb+mariadbconnector://{user}:{password}@{host}:{port}/{database}\")"
   ]
  },
  {
   "cell_type": "code",
   "execution_count": null,
   "id": "c71fc0eb-0638-4f60-817e-9bc91ee3c87e",
   "metadata": {},
   "outputs": [],
   "source": [
    "df = pd.read_csv('Vedenikova_Vitalia_studentB_stage3.csv')"
   ]
  },
  {
   "cell_type": "code",
   "execution_count": null,
   "id": "2a37d82a-4e49-4586-bf7e-772900122f52",
   "metadata": {},
   "outputs": [],
   "source": [
    "len(df)"
   ]
  },
  {
   "cell_type": "code",
   "execution_count": null,
   "id": "3894b449-55e3-4ab1-9994-bca2f9baaf5b",
   "metadata": {},
   "outputs": [],
   "source": [
    "#Import by chunks the whole dataset\n",
    "chunk_size = 100\n",
    "df_reader = pd.read_csv('Vedenikova_Vitalia_studentB_stage3.csv', chunksize = chunk_size)\n",
    "\n",
    "k = 0\n",
    "\n",
    "for chunk in df_reader:\n",
    "    try:\n",
    "        k += 1\n",
    "        chunk.to_sql('Rottentomatoes_data', con=engine, if_exists='append', index=False)\n",
    "    except Exception as e:\n",
    "        print(e)\n",
    "        print(i)\n"
   ]
  },
  {
   "cell_type": "code",
   "execution_count": null,
   "id": "f20c1427-804f-4963-a485-d81726368b98",
   "metadata": {},
   "outputs": [],
   "source": [
    "#sample check\n",
    "df_stage3 = pd.read_sql_table('Rottentomatoes_data', con=engine)\n",
    "print(F\"Loaded {len(df_stage3)} rows from the table from MariaDB\")\n",
    "print(\"Here is a sample:\")\n",
    "df_stage3.sample(5)"
   ]
  },
  {
   "cell_type": "code",
   "execution_count": null,
   "id": "e0d88090-312d-405b-bd57-92dfcc8737b9",
   "metadata": {},
   "outputs": [],
   "source": [
    "#check what the tables look like\n",
    "inspector = sqlalchemy.inspect(engine)"
   ]
  },
  {
   "cell_type": "code",
   "execution_count": null,
   "id": "35e53853-7279-411f-a718-42e1aa5c7e9a",
   "metadata": {},
   "outputs": [],
   "source": [
    "tables = inspector.get_table_names()\n",
    "print(\"List of tables in the 'CIP' database:\")\n",
    "for table in tables:\n",
    "    print(table)"
   ]
  },
  {
   "cell_type": "code",
   "execution_count": null,
   "id": "b3b517c5-d4be-4692-9887-ef263b12bcf6",
   "metadata": {},
   "outputs": [],
   "source": [
    "# Close Connection\n",
    "engine.dispose()"
   ]
  },
  {
   "cell_type": "code",
   "execution_count": null,
   "id": "bbbd91f0-87a4-4b61-8a8a-08f533d55422",
   "metadata": {},
   "outputs": [],
   "source": []
  }
 ],
 "metadata": {
  "kernelspec": {
   "display_name": "Python 3 (ipykernel)",
   "language": "python",
   "name": "python3"
  },
  "language_info": {
   "codemirror_mode": {
    "name": "ipython",
    "version": 3
   },
   "file_extension": ".py",
   "mimetype": "text/x-python",
   "name": "python",
   "nbconvert_exporter": "python",
   "pygments_lexer": "ipython3",
   "version": "3.10.12"
  }
 },
 "nbformat": 4,
 "nbformat_minor": 5
}

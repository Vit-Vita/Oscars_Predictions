{
 "cells": [
  {
   "cell_type": "markdown",
   "id": "2c3e2bf8-7a26-4eca-9a02-8e8984d8b998",
   "metadata": {},
   "source": [
    "# Group 07 - Code - Rotten Tomatoes Web Scraping\n",
    "## Vedenikova_Vitalia_StudentB"
   ]
  },
  {
   "cell_type": "code",
   "execution_count": null,
   "id": "462c896c-5c97-4339-b892-59f7849534cc",
   "metadata": {},
   "outputs": [],
   "source": [
    "#Importing the necessary packages\n",
    "import pandas as pd\n",
    "import numpy as np\n",
    "import pickle\n",
    "import sys\n",
    "import csv\n",
    "import warnings\n",
    "from scipy import stats\n",
    "from ast import literal_eval\n",
    "pd.set_option('display.max_colwidth', None) #allows to see all the columns when working with data frames."
   ]
  },
  {
   "cell_type": "markdown",
   "id": "8b495da5-cc83-4236-b7f2-396762eebedd",
   "metadata": {},
   "source": [
    "## 7. Enriching the Data "
   ]
  },
  {
   "cell_type": "code",
   "execution_count": null,
   "id": "10cff317-baec-49d9-8431-fd57a986ebe3",
   "metadata": {},
   "outputs": [],
   "source": [
    "df = pd.read_csv('Vedenikova_Vitalia_studentB_stage3.csv', low_memory=False)"
   ]
  },
  {
   "cell_type": "markdown",
   "id": "f72c6566-1636-423e-8305-a8e90540a548",
   "metadata": {},
   "source": [
    "### 7.1 Identifying Outliers in terms of quantities of reviews"
   ]
  },
  {
   "cell_type": "code",
   "execution_count": null,
   "id": "ad4b1669-86f7-48fb-a9be-882652af0e12",
   "metadata": {
    "scrolled": true
   },
   "outputs": [],
   "source": [
    "review_counts = df[\"Movie_Title\"].value_counts().sort_index()\n",
    "review_counts = review_counts.to_frame()\n",
    "review_counts.reset_index(inplace=True)"
   ]
  },
  {
   "cell_type": "code",
   "execution_count": null,
   "id": "3436646e-7e79-400b-a6ba-1d4517720fd6",
   "metadata": {},
   "outputs": [],
   "source": [
    "review_counts.describe()"
   ]
  },
  {
   "cell_type": "code",
   "execution_count": null,
   "id": "7371391a-6640-4926-8b34-fb5367f48f3b",
   "metadata": {},
   "outputs": [],
   "source": [
    "Q1 = review_counts['count'].quantile(0.25)\n",
    "Q3 = review_counts['count'].quantile(0.75)\n",
    "IQR = Q3 - Q1\n",
    "print(f'This is the lower boundary : {Q1-1.5*IQR}\\nThis is the upper boundary: {Q3+1.5*IQR}')"
   ]
  },
  {
   "cell_type": "code",
   "execution_count": null,
   "id": "be210a5d-4c3b-4cc4-9214-e155deed17ed",
   "metadata": {},
   "outputs": [],
   "source": [
    "upper_boundary = review_counts['count'].mean() + 2*review_counts['count'].std()"
   ]
  },
  {
   "cell_type": "code",
   "execution_count": null,
   "id": "0bdd2c63-d7ea-4fdc-a47e-c6e788b80fb1",
   "metadata": {},
   "outputs": [],
   "source": [
    "review_counts['count'] = review_counts['count'] > upper_boundary"
   ]
  },
  {
   "cell_type": "code",
   "execution_count": null,
   "id": "b8c97eeb-13dc-4929-9f05-07f984751c85",
   "metadata": {},
   "outputs": [],
   "source": [
    "df = df.merge(review_counts,how='left', on='Movie_Title')\n",
    "df.rename(columns={'count': 'Outlier_Reviews_Amount_(True/False)'}, inplace=True)"
   ]
  },
  {
   "cell_type": "markdown",
   "id": "359412ad-45cc-4b20-a9ef-546eda576462",
   "metadata": {},
   "source": [
    "### 7.2 Percentage of difference between the critics' overall score and the audience's overall score "
   ]
  },
  {
   "cell_type": "code",
   "execution_count": null,
   "id": "61788655-6d99-41b1-92da-2e412c341165",
   "metadata": {},
   "outputs": [],
   "source": [
    "pd.options.mode.chained_assignment = None \n",
    "df['Difference_Critics_Audience'] = df['Tomatometer'] - df['Audience_Score']"
   ]
  },
  {
   "cell_type": "markdown",
   "id": "2280de40-4339-4a89-896f-6d45fbab9b7c",
   "metadata": {},
   "source": [
    "### 7.3 Movies' box office revenue adjusted for inflation "
   ]
  },
  {
   "cell_type": "code",
   "execution_count": null,
   "id": "bcb56da4-a803-4b90-a948-59422171e20b",
   "metadata": {},
   "outputs": [],
   "source": [
    "df_inflation = pd.read_csv('../Code/Data/CPI_data.csv')\n",
    "df_inflation.rename(columns={'CUUS0000SA0': 'CPI'}, inplace=True)"
   ]
  },
  {
   "cell_type": "code",
   "execution_count": null,
   "id": "321fccfb-276e-4ab8-8a69-544fe823d701",
   "metadata": {},
   "outputs": [],
   "source": [
    "df_inflation['DATE'].str.split('/')\n",
    "df_inflation['DATE'] = df_inflation['DATE'].apply(lambda x : x[0:4])\n",
    "df_inflation.drop_duplicates(subset='DATE', inplace=True)"
   ]
  },
  {
   "cell_type": "code",
   "execution_count": null,
   "id": "8ffbf9c6-2560-4793-aa0a-c8162b2309d9",
   "metadata": {},
   "outputs": [],
   "source": [
    "df['DATE'] = df['Release_Date_(Theaters)'].str[0:4]"
   ]
  },
  {
   "cell_type": "code",
   "execution_count": null,
   "id": "bd005734-7b81-4032-ba4f-116f1aa700e2",
   "metadata": {},
   "outputs": [],
   "source": [
    "df_inflation['Multiplier'] = df_inflation['CPI'].iloc[-1] / df_inflation['CPI']\n",
    "df_inflation.loc[29] = [int(2024), 302.408, 1.000000]"
   ]
  },
  {
   "cell_type": "code",
   "execution_count": null,
   "id": "41d0ff68-893a-4c65-b43c-d276133761e3",
   "metadata": {},
   "outputs": [],
   "source": [
    "df = pd.merge(df, df_inflation, how='left', on='DATE')"
   ]
  },
  {
   "cell_type": "code",
   "execution_count": null,
   "id": "c9709f68-f66f-4cb6-9e67-350018ac2e00",
   "metadata": {},
   "outputs": [],
   "source": [
    "df['Box_Office_Adjusted_Inflation_(USD)'] = df['Box_Office_(Gross_USA)']*df['Multiplier']"
   ]
  },
  {
   "cell_type": "code",
   "execution_count": null,
   "id": "25472fc0-3af2-410b-b3c7-8b6d871f0c0e",
   "metadata": {},
   "outputs": [],
   "source": [
    "df.fillna(0, inplace=True)\n",
    "df.drop(['Multiplier','CPI','DATE'], axis=1, inplace=True)\n",
    "\n",
    "df = df[['Movie_Title', 'Release_Date_(Theaters)','Rottentomatoes_URLs', 'Rating', 'Genre', 'Original_Language', 'Director', \n",
    "             'Producer','Writer', 'Cast_And_Crew', 'Distributor','Production_Co', 'Synopsis','Runtime', 'Box_Office_(Gross_USA)', \n",
    "             'Box_Office_Adjusted_Inflation_(USD)','Audience_Score', 'Tomatometer_State', 'Tomatometer', 'Critics_Concensus',\n",
    "            'Difference_Critics_Audience','Review_Date','Author', 'Journal','Positive_Negative','Reviews',\n",
    "             'Outlier_Reviews_Amount_(True/False)']]"
   ]
  },
  {
   "cell_type": "code",
   "execution_count": null,
   "id": "1e95d5a1-ddfc-4718-9ba4-f27bc8b98073",
   "metadata": {},
   "outputs": [],
   "source": [
    "warnings.filterwarnings(\"ignore\")\n",
    "df['Box_Office_Adjusted_Inflation_(USD)'] = df['Box_Office_Adjusted_Inflation_(USD)'].fillna(0).astype(int)\n",
    "df['Box_Office_Adjusted_Inflation_(USD)'].replace(0,np.nan, inplace= True)"
   ]
  },
  {
   "cell_type": "code",
   "execution_count": null,
   "id": "7dbff1c7-0c69-4d2e-9f4a-5c9c8ccbd9dd",
   "metadata": {},
   "outputs": [],
   "source": [
    "df.to_csv('Vedenikova_Vitalia_studentB_stage3.csv', sep=',',index=False, encoding='utf-8-sig')"
   ]
  },
  {
   "cell_type": "code",
   "execution_count": null,
   "id": "f80e6c6d-0ee2-4574-9e20-0ceea3c32e42",
   "metadata": {},
   "outputs": [],
   "source": []
  },
  {
   "cell_type": "code",
   "execution_count": null,
   "id": "47f4b903-7c9a-46f3-8c9e-24e6424d2437",
   "metadata": {},
   "outputs": [],
   "source": []
  }
 ],
 "metadata": {
  "kernelspec": {
   "display_name": "Python 3 (ipykernel)",
   "language": "python",
   "name": "python3"
  },
  "language_info": {
   "codemirror_mode": {
    "name": "ipython",
    "version": 3
   },
   "file_extension": ".py",
   "mimetype": "text/x-python",
   "name": "python",
   "nbconvert_exporter": "python",
   "pygments_lexer": "ipython3",
   "version": "3.10.12"
  }
 },
 "nbformat": 4,
 "nbformat_minor": 5
}

{
 "cells": [
  {
   "cell_type": "markdown",
   "id": "bad25c50-a4bc-4442-b2f5-bf623470a92a",
   "metadata": {},
   "source": [
    "# CIP GROUP WORK ANALYSIS"
   ]
  },
  {
   "cell_type": "code",
   "execution_count": 105,
   "id": "596c289f-4e21-40aa-8690-b3860ce6245c",
   "metadata": {},
   "outputs": [],
   "source": [
    "#Importing the necessary packages\n",
    "import re\n",
    "import pandas as pd\n",
    "import numpy as np\n",
    "import csv\n",
    "from scipy import stats\n",
    "from datetime import datetime \n",
    "import seaborn as sns\n",
    "from dateutil.relativedelta import relativedelta \n",
    "import matplotlib.pyplot as plt\n",
    "from ast import literal_eval\n",
    "pd.set_option('display.max_colwidth', None) #allows to see all the columns when working with data frames.\n",
    "from dateutil import parser\n",
    "#import plotly.express as px"
   ]
  },
  {
   "cell_type": "markdown",
   "id": "454515de-ceb8-49a9-a4fa-4395573759fe",
   "metadata": {},
   "source": [
    "### Question 3"
   ]
  },
  {
   "cell_type": "markdown",
   "id": "525a337c-dcb0-4960-9fd2-cfb13c45c985",
   "metadata": {},
   "source": [
    "### Based on the number of reviews, do nominee films and winner films create different levels of engagement from the critics? \n"
   ]
  },
  {
   "cell_type": "code",
   "execution_count": 106,
   "id": "4f050d83-a8b7-4cb6-977b-a37d39b92d44",
   "metadata": {},
   "outputs": [
    {
     "data": {
      "text/plain": [
       "851"
      ]
     },
     "execution_count": 106,
     "metadata": {},
     "output_type": "execute_result"
    }
   ],
   "source": [
    "df = pd.read_csv('merged.csv', low_memory=False)\n",
    "pd.set_option('display.max_columns', None) #allows to see all the columns when working with data frames.\n",
    "len(df)"
   ]
  },
  {
   "cell_type": "markdown",
   "id": "933554ce-c66c-46fa-911d-39fc9184933f",
   "metadata": {},
   "source": [
    "## Reformatting the Dates"
   ]
  },
  {
   "cell_type": "markdown",
   "id": "c2dd99fc-8f6c-4b9c-8e35-3f3a743c3045",
   "metadata": {},
   "source": [
    "Because of the merge, the dates of the reviews have been placed in a list in a single cell for each movie. We have to extract these dates and put them in a datetime format in order to be able to work with them. The easiest format to manipulate for us is a dataframe with dates as values in columns."
   ]
  },
  {
   "cell_type": "code",
   "execution_count": 107,
   "id": "4c121433-6886-4992-8e31-088d0b06f3a5",
   "metadata": {},
   "outputs": [],
   "source": [
    "#to avoid errors, we remove movies with no reviews from the data frames. This is necessary to avoid duplicate dates when we use the\n",
    "#next function.\n",
    "df = df[df['Review_Date'] != '[nan]']"
   ]
  },
  {
   "cell_type": "code",
   "execution_count": 108,
   "id": "7740df0a-e75b-4224-8729-38346e076fb4",
   "metadata": {},
   "outputs": [],
   "source": [
    "def df_dates_reformatting (df):\n",
    "    '''to be able to plot the dates, they should be datetime objects. the list of dates is extracted and inserted as values in a \n",
    "    separate dataframe for plotting purposes'''\n",
    "    data_list = []\n",
    "    for row_index, row in df.iterrows(): \n",
    "        movie = row['Movie Title']\n",
    "        list = [date for date in str(row['Review_Date']).split(',')]\n",
    "        new_list=[]\n",
    "        for time in list:\n",
    "            match = re.search(r'\\d{4}-\\d{2}-\\d{2}', time)\n",
    "            match_group = match.group()\n",
    "            match_group = datetime.strptime(match_group,'%Y-%m-%d').date()\n",
    "            new_list.append({'Movie Title':movie, 'Dates':match_group})\n",
    "            df_temp = pd.DataFrame(new_list)\n",
    "            \n",
    "        data_list.append(df_temp)\n",
    "    \n",
    "    df_result = pd.concat(data_list, ignore_index=True)\n",
    "    \n",
    "    return (df_result)\n",
    "df_result = df_dates_reformatting(df)"
   ]
  },
  {
   "cell_type": "code",
   "execution_count": 109,
   "id": "f69f1b15-aea0-4319-9530-7dc962213ff9",
   "metadata": {},
   "outputs": [
    {
     "data": {
      "text/html": [
       "<div>\n",
       "<style scoped>\n",
       "    .dataframe tbody tr th:only-of-type {\n",
       "        vertical-align: middle;\n",
       "    }\n",
       "\n",
       "    .dataframe tbody tr th {\n",
       "        vertical-align: top;\n",
       "    }\n",
       "\n",
       "    .dataframe thead th {\n",
       "        text-align: right;\n",
       "    }\n",
       "</style>\n",
       "<table border=\"1\" class=\"dataframe\">\n",
       "  <thead>\n",
       "    <tr style=\"text-align: right;\">\n",
       "      <th></th>\n",
       "      <th>Movie Title</th>\n",
       "      <th>Dates</th>\n",
       "    </tr>\n",
       "  </thead>\n",
       "  <tbody>\n",
       "    <tr>\n",
       "      <th>0</th>\n",
       "      <td>12 Years a Slave</td>\n",
       "      <td>2013-08-31</td>\n",
       "    </tr>\n",
       "    <tr>\n",
       "      <th>1</th>\n",
       "      <td>12 Years a Slave</td>\n",
       "      <td>2013-08-31</td>\n",
       "    </tr>\n",
       "    <tr>\n",
       "      <th>2</th>\n",
       "      <td>12 Years a Slave</td>\n",
       "      <td>2013-08-31</td>\n",
       "    </tr>\n",
       "    <tr>\n",
       "      <th>3</th>\n",
       "      <td>12 Years a Slave</td>\n",
       "      <td>2013-09-01</td>\n",
       "    </tr>\n",
       "    <tr>\n",
       "      <th>4</th>\n",
       "      <td>12 Years a Slave</td>\n",
       "      <td>2013-09-03</td>\n",
       "    </tr>\n",
       "    <tr>\n",
       "      <th>...</th>\n",
       "      <td>...</td>\n",
       "      <td>...</td>\n",
       "    </tr>\n",
       "    <tr>\n",
       "      <th>146515</th>\n",
       "      <td>Zootopia</td>\n",
       "      <td>2021-08-29</td>\n",
       "    </tr>\n",
       "    <tr>\n",
       "      <th>146516</th>\n",
       "      <td>Zootopia</td>\n",
       "      <td>2021-10-09</td>\n",
       "    </tr>\n",
       "    <tr>\n",
       "      <th>146517</th>\n",
       "      <td>Zootopia</td>\n",
       "      <td>2022-04-18</td>\n",
       "    </tr>\n",
       "    <tr>\n",
       "      <th>146518</th>\n",
       "      <td>Zootopia</td>\n",
       "      <td>2022-05-16</td>\n",
       "    </tr>\n",
       "    <tr>\n",
       "      <th>146519</th>\n",
       "      <td>Zootopia</td>\n",
       "      <td>2023-11-01</td>\n",
       "    </tr>\n",
       "  </tbody>\n",
       "</table>\n",
       "<p>146520 rows × 2 columns</p>\n",
       "</div>"
      ],
      "text/plain": [
       "             Movie Title       Dates\n",
       "0       12 Years a Slave  2013-08-31\n",
       "1       12 Years a Slave  2013-08-31\n",
       "2       12 Years a Slave  2013-08-31\n",
       "3       12 Years a Slave  2013-09-01\n",
       "4       12 Years a Slave  2013-09-03\n",
       "...                  ...         ...\n",
       "146515          Zootopia  2021-08-29\n",
       "146516          Zootopia  2021-10-09\n",
       "146517          Zootopia  2022-04-18\n",
       "146518          Zootopia  2022-05-16\n",
       "146519          Zootopia  2023-11-01\n",
       "\n",
       "[146520 rows x 2 columns]"
      ]
     },
     "execution_count": 109,
     "metadata": {},
     "output_type": "execute_result"
    }
   ],
   "source": [
    "df_result"
   ]
  },
  {
   "cell_type": "markdown",
   "id": "393e2e1f-66b4-4f33-8b68-804836753e72",
   "metadata": {},
   "source": [
    "Now the extracted dates are strings and are cast as datetime objects once again :"
   ]
  },
  {
   "cell_type": "code",
   "execution_count": 110,
   "id": "a35defcd-ceac-4d2c-acae-3a9c3be771b0",
   "metadata": {},
   "outputs": [],
   "source": [
    "df_result['Dates']= pd.to_datetime(df_result['Dates'])"
   ]
  },
  {
   "cell_type": "markdown",
   "id": "e8c31bbc-9521-4f41-9482-0bcc8d3e813b",
   "metadata": {},
   "source": [
    "## Grouped Barplots of total amounts of reviews (Winners vs Nominees)"
   ]
  },
  {
   "cell_type": "markdown",
   "id": "0bc770d2-6258-4e3d-a415-9dd65b31cb2f",
   "metadata": {},
   "source": [
    "We count the amount of reviews for each movie:"
   ]
  },
  {
   "cell_type": "code",
   "execution_count": 111,
   "id": "8a215be5-fcc3-4e08-8be8-9f8ae3f16bd1",
   "metadata": {},
   "outputs": [
    {
     "data": {
      "text/html": [
       "<div>\n",
       "<style scoped>\n",
       "    .dataframe tbody tr th:only-of-type {\n",
       "        vertical-align: middle;\n",
       "    }\n",
       "\n",
       "    .dataframe tbody tr th {\n",
       "        vertical-align: top;\n",
       "    }\n",
       "\n",
       "    .dataframe thead th {\n",
       "        text-align: right;\n",
       "    }\n",
       "</style>\n",
       "<table border=\"1\" class=\"dataframe\">\n",
       "  <thead>\n",
       "    <tr style=\"text-align: right;\">\n",
       "      <th></th>\n",
       "      <th>Dates</th>\n",
       "    </tr>\n",
       "    <tr>\n",
       "      <th>Movie Title</th>\n",
       "      <th></th>\n",
       "    </tr>\n",
       "  </thead>\n",
       "  <tbody>\n",
       "    <tr>\n",
       "      <th>12 Years a Slave</th>\n",
       "      <td>379</td>\n",
       "    </tr>\n",
       "    <tr>\n",
       "      <th>127 Hours</th>\n",
       "      <td>238</td>\n",
       "    </tr>\n",
       "    <tr>\n",
       "      <th>13 Hours: The Secret Soldiers of Benghazi</th>\n",
       "      <td>224</td>\n",
       "    </tr>\n",
       "    <tr>\n",
       "      <th>13th</th>\n",
       "      <td>109</td>\n",
       "    </tr>\n",
       "    <tr>\n",
       "      <th>1917</th>\n",
       "      <td>471</td>\n",
       "    </tr>\n",
       "    <tr>\n",
       "      <th>...</th>\n",
       "      <td>...</td>\n",
       "    </tr>\n",
       "    <tr>\n",
       "      <th>Writing with Fire</th>\n",
       "      <td>54</td>\n",
       "    </tr>\n",
       "    <tr>\n",
       "      <th>X-Men: Days of Future Past</th>\n",
       "      <td>333</td>\n",
       "    </tr>\n",
       "    <tr>\n",
       "      <th>Zero Dark Thirty</th>\n",
       "      <td>306</td>\n",
       "    </tr>\n",
       "    <tr>\n",
       "      <th>Zootopia</th>\n",
       "      <td>297</td>\n",
       "    </tr>\n",
       "    <tr>\n",
       "      <th>tick, tick...BOOM!</th>\n",
       "      <td>223</td>\n",
       "    </tr>\n",
       "  </tbody>\n",
       "</table>\n",
       "<p>732 rows × 1 columns</p>\n",
       "</div>"
      ],
      "text/plain": [
       "                                           Dates\n",
       "Movie Title                                     \n",
       "12 Years a Slave                             379\n",
       "127 Hours                                    238\n",
       "13 Hours: The Secret Soldiers of Benghazi    224\n",
       "13th                                         109\n",
       "1917                                         471\n",
       "...                                          ...\n",
       "Writing with Fire                             54\n",
       "X-Men: Days of Future Past                   333\n",
       "Zero Dark Thirty                             306\n",
       "Zootopia                                     297\n",
       "tick, tick...BOOM!                           223\n",
       "\n",
       "[732 rows x 1 columns]"
      ]
     },
     "execution_count": 111,
     "metadata": {},
     "output_type": "execute_result"
    }
   ],
   "source": [
    "df_barplot = df_result.groupby(['Movie Title']).count()\n",
    "df_barplot"
   ]
  },
  {
   "cell_type": "markdown",
   "id": "7e671c75-f71d-4c87-91de-ac18760debdc",
   "metadata": {},
   "source": [
    "We merge on the movie title with the merged dataset to be able to extract the column 'Won_Oscars'. \n",
    "This column tells us if each movie was a nominee or a winner. "
   ]
  },
  {
   "cell_type": "code",
   "execution_count": 112,
   "id": "72dceb10-3572-4eaa-a120-5dfec294aad1",
   "metadata": {},
   "outputs": [
    {
     "data": {
      "text/html": [
       "<div>\n",
       "<style scoped>\n",
       "    .dataframe tbody tr th:only-of-type {\n",
       "        vertical-align: middle;\n",
       "    }\n",
       "\n",
       "    .dataframe tbody tr th {\n",
       "        vertical-align: top;\n",
       "    }\n",
       "\n",
       "    .dataframe thead th {\n",
       "        text-align: right;\n",
       "    }\n",
       "</style>\n",
       "<table border=\"1\" class=\"dataframe\">\n",
       "  <thead>\n",
       "    <tr style=\"text-align: right;\">\n",
       "      <th></th>\n",
       "      <th>Movie Title</th>\n",
       "      <th>Dates</th>\n",
       "      <th>Won_Oscars</th>\n",
       "    </tr>\n",
       "  </thead>\n",
       "  <tbody>\n",
       "    <tr>\n",
       "      <th>0</th>\n",
       "      <td>12 Years a Slave</td>\n",
       "      <td>379</td>\n",
       "      <td>True</td>\n",
       "    </tr>\n",
       "    <tr>\n",
       "      <th>1</th>\n",
       "      <td>127 Hours</td>\n",
       "      <td>238</td>\n",
       "      <td>False</td>\n",
       "    </tr>\n",
       "    <tr>\n",
       "      <th>2</th>\n",
       "      <td>13 Hours: The Secret Soldiers of Benghazi</td>\n",
       "      <td>224</td>\n",
       "      <td>False</td>\n",
       "    </tr>\n",
       "    <tr>\n",
       "      <th>3</th>\n",
       "      <td>13th</td>\n",
       "      <td>109</td>\n",
       "      <td>False</td>\n",
       "    </tr>\n",
       "    <tr>\n",
       "      <th>4</th>\n",
       "      <td>1917</td>\n",
       "      <td>471</td>\n",
       "      <td>True</td>\n",
       "    </tr>\n",
       "    <tr>\n",
       "      <th>...</th>\n",
       "      <td>...</td>\n",
       "      <td>...</td>\n",
       "      <td>...</td>\n",
       "    </tr>\n",
       "    <tr>\n",
       "      <th>728</th>\n",
       "      <td>Writing with Fire</td>\n",
       "      <td>54</td>\n",
       "      <td>False</td>\n",
       "    </tr>\n",
       "    <tr>\n",
       "      <th>729</th>\n",
       "      <td>X-Men: Days of Future Past</td>\n",
       "      <td>333</td>\n",
       "      <td>False</td>\n",
       "    </tr>\n",
       "    <tr>\n",
       "      <th>730</th>\n",
       "      <td>Zero Dark Thirty</td>\n",
       "      <td>306</td>\n",
       "      <td>False</td>\n",
       "    </tr>\n",
       "    <tr>\n",
       "      <th>731</th>\n",
       "      <td>Zootopia</td>\n",
       "      <td>297</td>\n",
       "      <td>True</td>\n",
       "    </tr>\n",
       "    <tr>\n",
       "      <th>732</th>\n",
       "      <td>tick, tick...BOOM!</td>\n",
       "      <td>223</td>\n",
       "      <td>False</td>\n",
       "    </tr>\n",
       "  </tbody>\n",
       "</table>\n",
       "<p>733 rows × 3 columns</p>\n",
       "</div>"
      ],
      "text/plain": [
       "                                   Movie Title  Dates  Won_Oscars\n",
       "0                             12 Years a Slave    379        True\n",
       "1                                    127 Hours    238       False\n",
       "2    13 Hours: The Secret Soldiers of Benghazi    224       False\n",
       "3                                         13th    109       False\n",
       "4                                         1917    471        True\n",
       "..                                         ...    ...         ...\n",
       "728                          Writing with Fire     54       False\n",
       "729                 X-Men: Days of Future Past    333       False\n",
       "730                           Zero Dark Thirty    306       False\n",
       "731                                   Zootopia    297        True\n",
       "732                         tick, tick...BOOM!    223       False\n",
       "\n",
       "[733 rows x 3 columns]"
      ]
     },
     "execution_count": 112,
     "metadata": {},
     "output_type": "execute_result"
    }
   ],
   "source": [
    "df_oscars = pd.merge(df_barplot,df[['Movie Title','Won_Oscars']],on='Movie Title', how='left')\n",
    "df_oscars"
   ]
  },
  {
   "cell_type": "code",
   "execution_count": 113,
   "id": "0b253118-6a8e-49a1-943e-c09b3243ba25",
   "metadata": {},
   "outputs": [
    {
     "data": {
      "text/plain": [
       "Won_Oscars\n",
       "Nominees    93552\n",
       "Winners     53864\n",
       "Name: Dates, dtype: int64"
      ]
     },
     "execution_count": 113,
     "metadata": {},
     "output_type": "execute_result"
    }
   ],
   "source": [
    "df_oscars.replace({False: 'Nominees', True: 'Winners'}, inplace=True) #we replace true/false with winner/nominee\n",
    "df_oscars = df_oscars.set_index('Won_Oscars') #set won_oscars as index\n",
    "df_oscars = df_oscars.drop('Movie Title', axis=1) \n",
    "df_oscars = df_oscars.groupby('Won_Oscars')['Dates'].sum() #we sum up the amount of winners and the amount of nominees\n",
    "df_oscars"
   ]
  },
  {
   "cell_type": "code",
   "execution_count": 114,
   "id": "8d8f685d-8883-4bc4-994c-153bdf277a02",
   "metadata": {},
   "outputs": [
    {
     "data": {
      "text/html": [
       "<div>\n",
       "<style scoped>\n",
       "    .dataframe tbody tr th:only-of-type {\n",
       "        vertical-align: middle;\n",
       "    }\n",
       "\n",
       "    .dataframe tbody tr th {\n",
       "        vertical-align: top;\n",
       "    }\n",
       "\n",
       "    .dataframe thead th {\n",
       "        text-align: right;\n",
       "    }\n",
       "</style>\n",
       "<table border=\"1\" class=\"dataframe\">\n",
       "  <thead>\n",
       "    <tr style=\"text-align: right;\">\n",
       "      <th></th>\n",
       "      <th>Dates</th>\n",
       "    </tr>\n",
       "    <tr>\n",
       "      <th>Won_Oscars</th>\n",
       "      <th></th>\n",
       "    </tr>\n",
       "  </thead>\n",
       "  <tbody>\n",
       "    <tr>\n",
       "      <th>Nominees</th>\n",
       "      <td>93552</td>\n",
       "    </tr>\n",
       "    <tr>\n",
       "      <th>Winners</th>\n",
       "      <td>53864</td>\n",
       "    </tr>\n",
       "  </tbody>\n",
       "</table>\n",
       "</div>"
      ],
      "text/plain": [
       "            Dates\n",
       "Won_Oscars       \n",
       "Nominees    93552\n",
       "Winners     53864"
      ]
     },
     "execution_count": 114,
     "metadata": {},
     "output_type": "execute_result"
    }
   ],
   "source": [
    "df_1 = pd.DataFrame(df_oscars) #we place the above in a dataframe to be able to plot it using seaborn\n",
    "df_1"
   ]
  },
  {
   "cell_type": "code",
   "execution_count": 115,
   "id": "0961b021-b99d-49ca-8326-0674c3bf2b39",
   "metadata": {},
   "outputs": [
    {
     "data": {
      "text/plain": [
       "<seaborn.axisgrid.FacetGrid at 0x7fcc58579b40>"
      ]
     },
     "execution_count": 115,
     "metadata": {},
     "output_type": "execute_result"
    },
    {
     "data": {
      "image/png": "[encoded data removed]",
      "text/plain": [
       "<Figure size 600x600 with 1 Axes>"
      ]
     },
     "metadata": {},
     "output_type": "display_data"
    }
   ],
   "source": [
    "sns.set_theme(style=\"whitegrid\")\n",
    "colors = [\"#847B91\", \"#C79F27\"]\n",
    "sns.set_palette(sns.color_palette(colors))\n",
    "g = sns.catplot(data=df_1, kind='bar', x='Won_Oscars', y='Dates',hue='Won_Oscars', errorbar=\"ci\", height=6).set(title='Total Amounts of Reviews (Nominees vs Winners)')\n",
    "g.despine(left=True)\n",
    "g.set_axis_labels(\"\", \"Amount of reviews\")"
   ]
  },
  {
   "cell_type": "code",
   "execution_count": null,
   "id": "d72e47ec-7999-4f61-98d5-0f5369abc857",
   "metadata": {},
   "outputs": [],
   "source": []
  },
  {
   "cell_type": "markdown",
   "id": "2c0a647c-0cc9-49cf-8daa-b9473314affa",
   "metadata": {},
   "source": [
    "## Separating the Winners and Nominees and placing them into different data sets"
   ]
  },
  {
   "cell_type": "code",
   "execution_count": 116,
   "id": "1b5bd0af-42e1-43d0-bc85-be8963830c78",
   "metadata": {},
   "outputs": [],
   "source": [
    "#we separate the winners from the nominated\n",
    "df = pd.read_csv('merged.csv', low_memory=False)\n",
    "df_winners = df.loc[df.Oscars_Won>=1]\n",
    "df_winners_1 = df.loc[df.Oscars_Won==1] #these are winners of 1 Oscar\n",
    "df_winners_2 = df.loc[df.Oscars_Won>=2] #these are winners of more than 1 Oscar\n",
    "df_nominees = df.loc[df.Oscars_Won==0]"
   ]
  },
  {
   "cell_type": "code",
   "execution_count": 117,
   "id": "fe6ffb68-ba80-47cf-a4ac-5bb56d1b9412",
   "metadata": {},
   "outputs": [],
   "source": [
    "#we remove the movies with no reviews\n",
    "df = df[df['Review_Date'] != '[nan]']\n",
    "df_winners = df_winners[df_winners['Review_Date'] != '[nan]']\n",
    "df_nominees = df_nominees[df_nominees['Review_Date'] != '[nan]']\n",
    "df_winners_1 = df_winners_1[df_winners_1['Review_Date'] != '[nan]']\n",
    "df_winners_2 = df_winners_2[df_winners_2['Review_Date'] != '[nan]']"
   ]
  },
  {
   "cell_type": "markdown",
   "id": "251797fa-8229-49d7-8452-5325e9ef7516",
   "metadata": {},
   "source": [
    "## Boxplots of the amounts of reviews"
   ]
  },
  {
   "cell_type": "code",
   "execution_count": 118,
   "id": "f520f91a-48f1-41a7-a8ec-4fdf4a85f5a7",
   "metadata": {},
   "outputs": [],
   "source": [
    "#we have one dataframe for the winners and another for the nominees. Again we extract the dates from the lists in the merged dataframe:\n",
    "df_win = df_dates_reformatting(df_winners)\n",
    "df_nom = df_dates_reformatting(df_nominees)"
   ]
  },
  {
   "cell_type": "code",
   "execution_count": 119,
   "id": "184d8002-1dd6-40fd-92dd-272f8fe91d22",
   "metadata": {},
   "outputs": [
    {
     "data": {
      "text/plain": [
       "[Text(0.5, 1.0, 'Boxplots of Amounts of Reviews (Nominees vs Winners)'),\n",
       " Text(0, 0.5, 'Number of Reviews')]"
      ]
     },
     "execution_count": 119,
     "metadata": {},
     "output_type": "execute_result"
    },
    {
     "data": {
      "image/png": "[encoded data removed]",
      "text/plain": [
       "<Figure size 640x480 with 1 Axes>"
      ]
     },
     "metadata": {},
     "output_type": "display_data"
    }
   ],
   "source": [
    "########   Boxplots ---- winners vs nominees  ########\n",
    "df_box_n = df_nom.groupby(['Movie Title']).count()\n",
    "df_box_w = df_win.groupby(['Movie Title']).count()\n",
    "\n",
    "data = pd.DataFrame({'Nominees':df_box_n.loc[:,'Dates'],'Winners':df_box_w.loc[:,'Dates']})\n",
    "sns.set_theme(style=\"darkgrid\")\n",
    "colors = [\"#847B91\", \"#C79F27\"]\n",
    "sns.set_palette(sns.color_palette(colors))\n",
    "sns.boxplot(data=data, notch=True, showfliers=False).set(title='Boxplots of Amounts of Reviews (Nominees vs Winners)', ylabel = 'Number of Reviews')"
   ]
  },
  {
   "cell_type": "code",
   "execution_count": 120,
   "id": "572f7f84-bd24-45c5-ba54-87a3fef92563",
   "metadata": {},
   "outputs": [],
   "source": [
    "#now we use our date extraction function again, but for the two different types of winners:\n",
    "df_win1 = df_dates_reformatting(df_winners_1)\n",
    "df_win2 = df_dates_reformatting(df_winners_2)"
   ]
  },
  {
   "cell_type": "code",
   "execution_count": 122,
   "id": "adde0221-12a2-48c7-9032-35f83609df6c",
   "metadata": {},
   "outputs": [
    {
     "data": {
      "image/png": "[encoded data removed]",
      "text/plain": [
       "<Figure size 640x480 with 1 Axes>"
      ]
     },
     "metadata": {},
     "output_type": "display_data"
    }
   ],
   "source": [
    "#########  Boxplots ---- winners of 1 or more than 1 oscar vs nominees  #########\n",
    "df_box_n = df_nom.groupby(['Movie Title']).count()\n",
    "df_box_w1 = df_win1.groupby(['Movie Title']).count()\n",
    "df_box_w2 = df_win2.groupby(['Movie Title']).count()\n",
    "\n",
    "data = pd.DataFrame({'Nominees':df_box_n.loc[:,'Dates'],'Winners of 1 Oscar':df_box_w1.loc[:,'Dates'], 'Winners of >1 Oscar':df_box_w2.loc[:,'Dates']})\n",
    "sns.set_theme(style=\"darkgrid\")\n",
    "colors = [\"#847B91\", \"#C79F27\", \"#C79F27\"]\n",
    "sns.set_palette(sns.color_palette(colors))\n",
    "g = sns.boxplot(data=data, notch=True, showfliers=False).set(title='Boxplots : Nominees vs Winners (Nominees vs Two Types of Winners)', ylabel = 'Number of Reviews',)"
   ]
  },
  {
   "cell_type": "code",
   "execution_count": null,
   "id": "5d2d97ca-6aec-4e2a-8fc2-af86e40fe2f1",
   "metadata": {},
   "outputs": [],
   "source": []
  },
  {
   "cell_type": "markdown",
   "id": "97bbda18-ee95-44d3-8819-203ee4a899fe",
   "metadata": {},
   "source": [
    "## Boxplots - Amounts of Reviews at 0-3 months, 3-6 months and 6-12 months"
   ]
  },
  {
   "cell_type": "markdown",
   "id": "335ee330-8aac-406d-86b3-7df42f680841",
   "metadata": {},
   "source": [
    "We yet again take the dataset which resulted from our dates reformatting function and this time we merge onto this dataset the columns 'Movie Title', 'Won_Oscars' and 'Released' (which contains the release dates of the movies)"
   ]
  },
  {
   "cell_type": "code",
   "execution_count": 138,
   "id": "76b2067a-ac4a-4fc6-8e11-f0f8589b7cd2",
   "metadata": {},
   "outputs": [],
   "source": [
    "df_oscars =  pd.merge(df_result,df[['Movie Title','Won_Oscars', 'Released']],on='Movie Title', how='left')"
   ]
  },
  {
   "cell_type": "code",
   "execution_count": 139,
   "id": "33eb06d1-5c1e-47be-b8b7-30067a9e8fff",
   "metadata": {},
   "outputs": [
    {
     "data": {
      "text/html": [
       "<div>\n",
       "<style scoped>\n",
       "    .dataframe tbody tr th:only-of-type {\n",
       "        vertical-align: middle;\n",
       "    }\n",
       "\n",
       "    .dataframe tbody tr th {\n",
       "        vertical-align: top;\n",
       "    }\n",
       "\n",
       "    .dataframe thead th {\n",
       "        text-align: right;\n",
       "    }\n",
       "</style>\n",
       "<table border=\"1\" class=\"dataframe\">\n",
       "  <thead>\n",
       "    <tr style=\"text-align: right;\">\n",
       "      <th></th>\n",
       "      <th>Movie Title</th>\n",
       "      <th>Dates</th>\n",
       "      <th>Won_Oscars</th>\n",
       "      <th>Released</th>\n",
       "    </tr>\n",
       "  </thead>\n",
       "  <tbody>\n",
       "    <tr>\n",
       "      <th>0</th>\n",
       "      <td>12 Years a Slave</td>\n",
       "      <td>2013-08-31</td>\n",
       "      <td>True</td>\n",
       "      <td>2013-11-08</td>\n",
       "    </tr>\n",
       "    <tr>\n",
       "      <th>1</th>\n",
       "      <td>12 Years a Slave</td>\n",
       "      <td>2013-08-31</td>\n",
       "      <td>True</td>\n",
       "      <td>2013-11-08</td>\n",
       "    </tr>\n",
       "    <tr>\n",
       "      <th>2</th>\n",
       "      <td>12 Years a Slave</td>\n",
       "      <td>2013-08-31</td>\n",
       "      <td>True</td>\n",
       "      <td>2013-11-08</td>\n",
       "    </tr>\n",
       "    <tr>\n",
       "      <th>3</th>\n",
       "      <td>12 Years a Slave</td>\n",
       "      <td>2013-09-01</td>\n",
       "      <td>True</td>\n",
       "      <td>2013-11-08</td>\n",
       "    </tr>\n",
       "    <tr>\n",
       "      <th>4</th>\n",
       "      <td>12 Years a Slave</td>\n",
       "      <td>2013-09-03</td>\n",
       "      <td>True</td>\n",
       "      <td>2013-11-08</td>\n",
       "    </tr>\n",
       "    <tr>\n",
       "      <th>...</th>\n",
       "      <td>...</td>\n",
       "      <td>...</td>\n",
       "      <td>...</td>\n",
       "      <td>...</td>\n",
       "    </tr>\n",
       "    <tr>\n",
       "      <th>147411</th>\n",
       "      <td>Zootopia</td>\n",
       "      <td>2021-08-29</td>\n",
       "      <td>True</td>\n",
       "      <td>2016-03-04</td>\n",
       "    </tr>\n",
       "    <tr>\n",
       "      <th>147412</th>\n",
       "      <td>Zootopia</td>\n",
       "      <td>2021-10-09</td>\n",
       "      <td>True</td>\n",
       "      <td>2016-03-04</td>\n",
       "    </tr>\n",
       "    <tr>\n",
       "      <th>147413</th>\n",
       "      <td>Zootopia</td>\n",
       "      <td>2022-04-18</td>\n",
       "      <td>True</td>\n",
       "      <td>2016-03-04</td>\n",
       "    </tr>\n",
       "    <tr>\n",
       "      <th>147414</th>\n",
       "      <td>Zootopia</td>\n",
       "      <td>2022-05-16</td>\n",
       "      <td>True</td>\n",
       "      <td>2016-03-04</td>\n",
       "    </tr>\n",
       "    <tr>\n",
       "      <th>147415</th>\n",
       "      <td>Zootopia</td>\n",
       "      <td>2023-11-01</td>\n",
       "      <td>True</td>\n",
       "      <td>2016-03-04</td>\n",
       "    </tr>\n",
       "  </tbody>\n",
       "</table>\n",
       "<p>147416 rows × 4 columns</p>\n",
       "</div>"
      ],
      "text/plain": [
       "             Movie Title      Dates  Won_Oscars    Released\n",
       "0       12 Years a Slave 2013-08-31        True  2013-11-08\n",
       "1       12 Years a Slave 2013-08-31        True  2013-11-08\n",
       "2       12 Years a Slave 2013-08-31        True  2013-11-08\n",
       "3       12 Years a Slave 2013-09-01        True  2013-11-08\n",
       "4       12 Years a Slave 2013-09-03        True  2013-11-08\n",
       "...                  ...        ...         ...         ...\n",
       "147411          Zootopia 2021-08-29        True  2016-03-04\n",
       "147412          Zootopia 2021-10-09        True  2016-03-04\n",
       "147413          Zootopia 2022-04-18        True  2016-03-04\n",
       "147414          Zootopia 2022-05-16        True  2016-03-04\n",
       "147415          Zootopia 2023-11-01        True  2016-03-04\n",
       "\n",
       "[147416 rows x 4 columns]"
      ]
     },
     "execution_count": 139,
     "metadata": {},
     "output_type": "execute_result"
    }
   ],
   "source": [
    "df_oscars"
   ]
  },
  {
   "cell_type": "code",
   "execution_count": 140,
   "id": "7ef9d553-4a51-4941-9d4f-74eead83dbeb",
   "metadata": {},
   "outputs": [],
   "source": [
    "#we create columns to contain the start and end dates of each period and the counts of the reviews for each one. \n",
    "df_oscars.insert(4,'three_months', '')\n",
    "df_oscars.insert(5,'six_months', '')\n",
    "df_oscars.insert(6,'twelve_months', '')\n",
    "df_oscars.insert(7,'0-3 months', '')\n",
    "df_oscars.insert(8,'3-6 months', '')\n",
    "df_oscars.insert(9,'6-12 months', '')"
   ]
  },
  {
   "cell_type": "code",
   "execution_count": 141,
   "id": "ae1538b5-554b-4d86-a91b-87bb6ef6892e",
   "metadata": {},
   "outputs": [
    {
     "data": {
      "text/html": [
       "<div>\n",
       "<style scoped>\n",
       "    .dataframe tbody tr th:only-of-type {\n",
       "        vertical-align: middle;\n",
       "    }\n",
       "\n",
       "    .dataframe tbody tr th {\n",
       "        vertical-align: top;\n",
       "    }\n",
       "\n",
       "    .dataframe thead th {\n",
       "        text-align: right;\n",
       "    }\n",
       "</style>\n",
       "<table border=\"1\" class=\"dataframe\">\n",
       "  <thead>\n",
       "    <tr style=\"text-align: right;\">\n",
       "      <th></th>\n",
       "      <th>Movie Title</th>\n",
       "      <th>Dates</th>\n",
       "      <th>Won_Oscars</th>\n",
       "      <th>Released</th>\n",
       "      <th>three_months</th>\n",
       "      <th>six_months</th>\n",
       "      <th>twelve_months</th>\n",
       "      <th>0-3 months</th>\n",
       "      <th>3-6 months</th>\n",
       "      <th>6-12 months</th>\n",
       "    </tr>\n",
       "  </thead>\n",
       "  <tbody>\n",
       "    <tr>\n",
       "      <th>0</th>\n",
       "      <td>12 Years a Slave</td>\n",
       "      <td>2013-08-31</td>\n",
       "      <td>True</td>\n",
       "      <td>2013-11-08</td>\n",
       "      <td></td>\n",
       "      <td></td>\n",
       "      <td></td>\n",
       "      <td></td>\n",
       "      <td></td>\n",
       "      <td></td>\n",
       "    </tr>\n",
       "    <tr>\n",
       "      <th>1</th>\n",
       "      <td>12 Years a Slave</td>\n",
       "      <td>2013-08-31</td>\n",
       "      <td>True</td>\n",
       "      <td>2013-11-08</td>\n",
       "      <td></td>\n",
       "      <td></td>\n",
       "      <td></td>\n",
       "      <td></td>\n",
       "      <td></td>\n",
       "      <td></td>\n",
       "    </tr>\n",
       "    <tr>\n",
       "      <th>2</th>\n",
       "      <td>12 Years a Slave</td>\n",
       "      <td>2013-08-31</td>\n",
       "      <td>True</td>\n",
       "      <td>2013-11-08</td>\n",
       "      <td></td>\n",
       "      <td></td>\n",
       "      <td></td>\n",
       "      <td></td>\n",
       "      <td></td>\n",
       "      <td></td>\n",
       "    </tr>\n",
       "    <tr>\n",
       "      <th>3</th>\n",
       "      <td>12 Years a Slave</td>\n",
       "      <td>2013-09-01</td>\n",
       "      <td>True</td>\n",
       "      <td>2013-11-08</td>\n",
       "      <td></td>\n",
       "      <td></td>\n",
       "      <td></td>\n",
       "      <td></td>\n",
       "      <td></td>\n",
       "      <td></td>\n",
       "    </tr>\n",
       "    <tr>\n",
       "      <th>4</th>\n",
       "      <td>12 Years a Slave</td>\n",
       "      <td>2013-09-03</td>\n",
       "      <td>True</td>\n",
       "      <td>2013-11-08</td>\n",
       "      <td></td>\n",
       "      <td></td>\n",
       "      <td></td>\n",
       "      <td></td>\n",
       "      <td></td>\n",
       "      <td></td>\n",
       "    </tr>\n",
       "  </tbody>\n",
       "</table>\n",
       "</div>"
      ],
      "text/plain": [
       "        Movie Title      Dates  Won_Oscars    Released three_months  \\\n",
       "0  12 Years a Slave 2013-08-31        True  2013-11-08                \n",
       "1  12 Years a Slave 2013-08-31        True  2013-11-08                \n",
       "2  12 Years a Slave 2013-08-31        True  2013-11-08                \n",
       "3  12 Years a Slave 2013-09-01        True  2013-11-08                \n",
       "4  12 Years a Slave 2013-09-03        True  2013-11-08                \n",
       "\n",
       "  six_months twelve_months 0-3 months 3-6 months 6-12 months  \n",
       "0                                                             \n",
       "1                                                             \n",
       "2                                                             \n",
       "3                                                             \n",
       "4                                                             "
      ]
     },
     "execution_count": 141,
     "metadata": {},
     "output_type": "execute_result"
    }
   ],
   "source": [
    "df_oscars.head()"
   ]
  },
  {
   "cell_type": "code",
   "execution_count": 142,
   "id": "8e75c89b-4e3c-4805-8662-d246e788fa7c",
   "metadata": {},
   "outputs": [],
   "source": [
    "sam_osc = df_oscars.iloc[0:50,:]"
   ]
  },
  {
   "cell_type": "markdown",
   "id": "53275dcb-f778-42f8-a86f-e690284f61b2",
   "metadata": {},
   "source": [
    "If we directly try to change the Release dates to datetime, this creates huge issues with the Release dates."
   ]
  },
  {
   "cell_type": "markdown",
   "id": "7466659d-ffd4-40f6-a38f-f9cd84e72d42",
   "metadata": {},
   "source": [
    "We have to use iterrows() and create a new function :"
   ]
  },
  {
   "cell_type": "code",
   "execution_count": 143,
   "id": "0c6cbbee-37ae-4ae8-a29c-4edc5ac98fa3",
   "metadata": {},
   "outputs": [
    {
     "data": {
      "text/html": [
       "<div>\n",
       "<style scoped>\n",
       "    .dataframe tbody tr th:only-of-type {\n",
       "        vertical-align: middle;\n",
       "    }\n",
       "\n",
       "    .dataframe tbody tr th {\n",
       "        vertical-align: top;\n",
       "    }\n",
       "\n",
       "    .dataframe thead th {\n",
       "        text-align: right;\n",
       "    }\n",
       "</style>\n",
       "<table border=\"1\" class=\"dataframe\">\n",
       "  <thead>\n",
       "    <tr style=\"text-align: right;\">\n",
       "      <th></th>\n",
       "      <th>Movie Title</th>\n",
       "      <th>Dates</th>\n",
       "      <th>Won_Oscars</th>\n",
       "      <th>Released</th>\n",
       "      <th>three_months</th>\n",
       "      <th>six_months</th>\n",
       "      <th>twelve_months</th>\n",
       "      <th>0-3 months</th>\n",
       "      <th>3-6 months</th>\n",
       "      <th>6-12 months</th>\n",
       "    </tr>\n",
       "  </thead>\n",
       "  <tbody>\n",
       "    <tr>\n",
       "      <th>0</th>\n",
       "      <td>12 Years a Slave</td>\n",
       "      <td>2013-08-31</td>\n",
       "      <td>True</td>\n",
       "      <td>2013-11-08</td>\n",
       "      <td>2014-02-08 00:00:00</td>\n",
       "      <td>2014-05-08 00:00:00</td>\n",
       "      <td>2014-11-08 00:00:00</td>\n",
       "      <td>1</td>\n",
       "      <td>0</td>\n",
       "      <td>0</td>\n",
       "    </tr>\n",
       "    <tr>\n",
       "      <th>1</th>\n",
       "      <td>12 Years a Slave</td>\n",
       "      <td>2013-08-31</td>\n",
       "      <td>True</td>\n",
       "      <td>2013-11-08</td>\n",
       "      <td>2014-02-08 00:00:00</td>\n",
       "      <td>2014-05-08 00:00:00</td>\n",
       "      <td>2014-11-08 00:00:00</td>\n",
       "      <td>1</td>\n",
       "      <td>0</td>\n",
       "      <td>0</td>\n",
       "    </tr>\n",
       "    <tr>\n",
       "      <th>2</th>\n",
       "      <td>12 Years a Slave</td>\n",
       "      <td>2013-08-31</td>\n",
       "      <td>True</td>\n",
       "      <td>2013-11-08</td>\n",
       "      <td>2014-02-08 00:00:00</td>\n",
       "      <td>2014-05-08 00:00:00</td>\n",
       "      <td>2014-11-08 00:00:00</td>\n",
       "      <td>1</td>\n",
       "      <td>0</td>\n",
       "      <td>0</td>\n",
       "    </tr>\n",
       "    <tr>\n",
       "      <th>3</th>\n",
       "      <td>12 Years a Slave</td>\n",
       "      <td>2013-09-01</td>\n",
       "      <td>True</td>\n",
       "      <td>2013-11-08</td>\n",
       "      <td>2014-02-08 00:00:00</td>\n",
       "      <td>2014-05-08 00:00:00</td>\n",
       "      <td>2014-11-08 00:00:00</td>\n",
       "      <td>1</td>\n",
       "      <td>0</td>\n",
       "      <td>0</td>\n",
       "    </tr>\n",
       "    <tr>\n",
       "      <th>4</th>\n",
       "      <td>12 Years a Slave</td>\n",
       "      <td>2013-09-03</td>\n",
       "      <td>True</td>\n",
       "      <td>2013-11-08</td>\n",
       "      <td>2014-02-08 00:00:00</td>\n",
       "      <td>2014-05-08 00:00:00</td>\n",
       "      <td>2014-11-08 00:00:00</td>\n",
       "      <td>1</td>\n",
       "      <td>0</td>\n",
       "      <td>0</td>\n",
       "    </tr>\n",
       "  </tbody>\n",
       "</table>\n",
       "</div>"
      ],
      "text/plain": [
       "        Movie Title      Dates  Won_Oscars    Released         three_months  \\\n",
       "0  12 Years a Slave 2013-08-31        True  2013-11-08  2014-02-08 00:00:00   \n",
       "1  12 Years a Slave 2013-08-31        True  2013-11-08  2014-02-08 00:00:00   \n",
       "2  12 Years a Slave 2013-08-31        True  2013-11-08  2014-02-08 00:00:00   \n",
       "3  12 Years a Slave 2013-09-01        True  2013-11-08  2014-02-08 00:00:00   \n",
       "4  12 Years a Slave 2013-09-03        True  2013-11-08  2014-02-08 00:00:00   \n",
       "\n",
       "            six_months        twelve_months 0-3 months 3-6 months 6-12 months  \n",
       "0  2014-05-08 00:00:00  2014-11-08 00:00:00          1          0           0  \n",
       "1  2014-05-08 00:00:00  2014-11-08 00:00:00          1          0           0  \n",
       "2  2014-05-08 00:00:00  2014-11-08 00:00:00          1          0           0  \n",
       "3  2014-05-08 00:00:00  2014-11-08 00:00:00          1          0           0  \n",
       "4  2014-05-08 00:00:00  2014-11-08 00:00:00          1          0           0  "
      ]
     },
     "execution_count": 143,
     "metadata": {},
     "output_type": "execute_result"
    }
   ],
   "source": [
    "def df_dates_reformating_and_ranges (df):\n",
    "    '''Creating ranges and counting occurances for each time range for each movie. This will be used for further plotting'''\n",
    "    \n",
    "    #defining start and end dates for each period:\n",
    "    for row_index, row in df.iterrows(): \n",
    "        df.loc[row_index,'three_months'] = datetime.strptime(row['Released'],'%Y-%m-%d').date() + pd.DateOffset(months=3)\n",
    "        df.loc[row_index,'six_months'] = datetime.strptime(row['Released'],'%Y-%m-%d').date() + pd.DateOffset(months=6)\n",
    "        df.loc[row_index,'twelve_months'] = datetime.strptime(row['Released'],'%Y-%m-%d').date() + pd.DateOffset(months=12)\n",
    "\n",
    "        #counting each occurance \n",
    "        if df.loc[row_index,'Dates'] <= df.loc[row_index,'three_months']:\n",
    "            df.loc[row_index,'0-3 months'] = 1\n",
    "            df.loc[row_index,'3-6 months'] = 0\n",
    "            df.loc[row_index,'6-12 months'] = 0\n",
    "            three_list=[]\n",
    "        elif (df.loc[row_index,'Dates'] >= df.loc[row_index,'three_months'])&(df.loc[row_index,'Dates'] <= df.loc[row_index,'six_months']): \n",
    "            df.loc[row_index,'0-3 months'] = 0\n",
    "            df.loc[row_index,'3-6 months'] = 1\n",
    "            df.loc[row_index,'6-12 months'] = 0\n",
    "            six_list=[]\n",
    "        elif (df.loc[row_index,'Dates'] >= df.loc[row_index,'six_months'])&(df.loc[row_index,'Dates'] <= df.loc[row_index,'twelve_months']):\n",
    "            df.loc[row_index,'0-3 months'] = 0\n",
    "            df.loc[row_index,'3-6 months'] = 0\n",
    "            df.loc[row_index,'6-12 months'] = 1\n",
    "            twelve_list=[]\n",
    "        else:\n",
    "            df.loc[row_index,'0-3 months'] = 0\n",
    "            df.loc[row_index,'3-6 months'] = 0\n",
    "            df.loc[row_index,'6-12 months'] = 0\n",
    "            \n",
    "    \n",
    "    return (df)\n",
    "df_red= df_dates_reformating_and_ranges (df_oscars)\n",
    "df_red.head()"
   ]
  },
  {
   "cell_type": "markdown",
   "id": "ceb6e2ac-e818-4ab8-9b69-86349c156163",
   "metadata": {},
   "source": [
    "## Barplots for the means for each category at 0-3 months, 3-6 months, 6-12 months"
   ]
  },
  {
   "cell_type": "code",
   "execution_count": 144,
   "id": "bddd3f09-1677-41c1-b02d-31738f4b9808",
   "metadata": {},
   "outputs": [
    {
     "name": "stderr",
     "output_type": "stream",
     "text": [
      "/tmp/ipykernel_61559/4200686916.py:2: FutureWarning: Downcasting behavior in `replace` is deprecated and will be removed in a future version. To retain the old behavior, explicitly call `result.infer_objects(copy=False)`. To opt-in to the future behavior, set `pd.set_option('future.no_silent_downcasting', True)`\n",
      "  df_red.replace({'False': 'Nominee', 'True': 'Winner'}, inplace=True)\n"
     ]
    }
   ],
   "source": [
    "df_red['Won_Oscars'] = df_red['Won_Oscars'].astype(str)\n",
    "df_red.replace({'False': 'Nominee', 'True': 'Winner'}, inplace=True)\n",
    "df_red = df_red.groupby(['Won_Oscars','Movie Title']).agg({'0-3 months':'sum', '3-6 months':'sum', '6-12 months':'sum'})\n",
    "df_red_totals = df_red.groupby('Won_Oscars')[['0-3 months', '3-6 months', '6-12 months']].sum()"
   ]
  },
  {
   "cell_type": "code",
   "execution_count": 145,
   "id": "8d9c94f3-de6c-41e2-96d3-1321cebdda8f",
   "metadata": {},
   "outputs": [
    {
     "name": "stderr",
     "output_type": "stream",
     "text": [
      "/tmp/ipykernel_61559/1978266864.py:1: FutureWarning: Setting an item of incompatible dtype is deprecated and will raise an error in a future version of pandas. Value '135.48496240601503' has dtype incompatible with int64, please explicitly cast to a compatible dtype first.\n",
      "  df_red_totals.iloc[0,:] = df_red_totals.iloc[0,:] / 532 #divide by the total amount of nominees so we get an average\n",
      "/tmp/ipykernel_61559/1978266864.py:1: FutureWarning: Setting an item of incompatible dtype is deprecated and will raise an error in a future version of pandas. Value '9.411654135338345' has dtype incompatible with int64, please explicitly cast to a compatible dtype first.\n",
      "  df_red_totals.iloc[0,:] = df_red_totals.iloc[0,:] / 532 #divide by the total amount of nominees so we get an average\n",
      "/tmp/ipykernel_61559/1978266864.py:1: FutureWarning: Setting an item of incompatible dtype is deprecated and will raise an error in a future version of pandas. Value '10.071428571428571' has dtype incompatible with int64, please explicitly cast to a compatible dtype first.\n",
      "  df_red_totals.iloc[0,:] = df_red_totals.iloc[0,:] / 532 #divide by the total amount of nominees so we get an average\n"
     ]
    }
   ],
   "source": [
    "df_red_totals.iloc[0,:] = df_red_totals.iloc[0,:] / 532 #divide by the total amount of nominees so we get an average\n",
    "df_red_totals.iloc[1,:] = df_red_totals.iloc[1,:] / 319 #divide by the total amount of winners so we get an average"
   ]
  },
  {
   "cell_type": "code",
   "execution_count": 146,
   "id": "2f5b2309-3d92-478f-a6b4-65b403d36597",
   "metadata": {},
   "outputs": [
    {
     "data": {
      "text/html": [
       "<div>\n",
       "<style scoped>\n",
       "    .dataframe tbody tr th:only-of-type {\n",
       "        vertical-align: middle;\n",
       "    }\n",
       "\n",
       "    .dataframe tbody tr th {\n",
       "        vertical-align: top;\n",
       "    }\n",
       "\n",
       "    .dataframe thead th {\n",
       "        text-align: right;\n",
       "    }\n",
       "</style>\n",
       "<table border=\"1\" class=\"dataframe\">\n",
       "  <thead>\n",
       "    <tr style=\"text-align: right;\">\n",
       "      <th></th>\n",
       "      <th>0-3 months</th>\n",
       "      <th>3-6 months</th>\n",
       "      <th>6-12 months</th>\n",
       "    </tr>\n",
       "    <tr>\n",
       "      <th>Won_Oscars</th>\n",
       "      <th></th>\n",
       "      <th></th>\n",
       "      <th></th>\n",
       "    </tr>\n",
       "  </thead>\n",
       "  <tbody>\n",
       "    <tr>\n",
       "      <th>Nominee</th>\n",
       "      <td>135.484962</td>\n",
       "      <td>9.411654</td>\n",
       "      <td>10.071429</td>\n",
       "    </tr>\n",
       "    <tr>\n",
       "      <th>Winner</th>\n",
       "      <td>130.423197</td>\n",
       "      <td>7.755486</td>\n",
       "      <td>8.266458</td>\n",
       "    </tr>\n",
       "  </tbody>\n",
       "</table>\n",
       "</div>"
      ],
      "text/plain": [
       "            0-3 months  3-6 months  6-12 months\n",
       "Won_Oscars                                     \n",
       "Nominee     135.484962    9.411654    10.071429\n",
       "Winner      130.423197    7.755486     8.266458"
      ]
     },
     "execution_count": 146,
     "metadata": {},
     "output_type": "execute_result"
    }
   ],
   "source": [
    "df_red_totals"
   ]
  },
  {
   "cell_type": "code",
   "execution_count": 147,
   "id": "e2e08ee1-e6dc-4aca-9404-e69bd4a7ec86",
   "metadata": {},
   "outputs": [
    {
     "data": {
      "text/plain": [
       "[Text(0.5, 1.0, 'Normalized Number of Reviews for each Category'),\n",
       " Text(0, 0.5, 'Number of Reviews'),\n",
       " Text(0.5, 0, '')]"
      ]
     },
     "execution_count": 147,
     "metadata": {},
     "output_type": "execute_result"
    },
    {
     "data": {
      "image/png": "[encoded data removed]",
      "text/plain": [
       "<Figure size 640x480 with 1 Axes>"
      ]
     },
     "metadata": {},
     "output_type": "display_data"
    }
   ],
   "source": [
    "sns.set_theme(style=\"white\")\n",
    "df_red_totals.plot(kind='bar', color = [\"#C1CC9E\",'#87C3BE',\"#0E325F\"]).set(title='Normalized Number of Reviews for each Category', ylabel = 'Number of Reviews', xlabel='')"
   ]
  },
  {
   "cell_type": "code",
   "execution_count": 148,
   "id": "8d4d070e-2a6a-43c3-9101-f2a6cf58706b",
   "metadata": {},
   "outputs": [
    {
     "data": {
      "image/png": "[encoded data removed]",
      "text/plain": [
       "<Figure size 640x480 with 1 Axes>"
      ]
     },
     "metadata": {},
     "output_type": "display_data"
    }
   ],
   "source": [
    "# boxplots for 0-3 months \n",
    "sns.set_theme(style=\"darkgrid\")\n",
    "colors = [\"#847B91\", \"#C79F27\"]\n",
    "sns.set_palette(sns.color_palette(colors))\n",
    "#data = pd.DataFrame({'Nominees':df_red.iloc[0],'Winners':df_red.iloc[1]})\n",
    "g = sns.boxplot(data=df_red, x='Won_Oscars', y= '0-3 months',notch=True, hue = 'Won_Oscars', showfliers=False).set(title='0-3 Months : Number of Reviews', ylabel = 'Number of Reviews', xlabel ='Won an Oscar')"
   ]
  },
  {
   "cell_type": "code",
   "execution_count": 149,
   "id": "10e3cd49-bd0e-4fa1-913a-1291937d5c30",
   "metadata": {},
   "outputs": [
    {
     "data": {
      "image/png": "[encoded data removed]",
      "text/plain": [
       "<Figure size 640x480 with 1 Axes>"
      ]
     },
     "metadata": {},
     "output_type": "display_data"
    }
   ],
   "source": [
    "# boxplots for 3-6 months \n",
    "sns.set_theme(style=\"darkgrid\")\n",
    "colors = [\"#847B91\", \"#C79F27\"]\n",
    "sns.set_palette(sns.color_palette(colors))\n",
    "g = sns.boxplot(data=df_red, x='Won_Oscars', y= '3-6 months',notch=True, hue = 'Won_Oscars',showfliers=False).set(title='3-6 Months : Number of Reviews', ylabel = 'Number of Reviews', xlabel ='Won an Oscar')"
   ]
  },
  {
   "cell_type": "code",
   "execution_count": 151,
   "id": "55564943-7d87-4817-a499-1bceb7f4f31e",
   "metadata": {},
   "outputs": [
    {
     "data": {
      "image/png": "[encoded data removed]",
      "text/plain": [
       "<Figure size 640x480 with 1 Axes>"
      ]
     },
     "metadata": {},
     "output_type": "display_data"
    }
   ],
   "source": [
    "# boxplots for 6-12 months \n",
    "sns.set_theme(style=\"darkgrid\")\n",
    "colors = [\"#847B91\", \"#C79F27\"]\n",
    "sns.set_palette(sns.color_palette(colors))\n",
    "g = sns.boxplot(data=df_red, x='Won_Oscars', y= '6-12 months',notch=True, hue = 'Won_Oscars',showfliers=False).set(title='6-12 Months : Number of Reviews', ylabel = 'Number of Reviews', xlabel ='Won an Oscar')"
   ]
  },
  {
   "cell_type": "code",
   "execution_count": null,
   "id": "f4830467-a715-406d-ba20-584862eac855",
   "metadata": {},
   "outputs": [],
   "source": []
  },
  {
   "cell_type": "code",
   "execution_count": null,
   "id": "0c982877-4201-404b-8e00-6a8e8a8de7ab",
   "metadata": {},
   "outputs": [],
   "source": []
  },
  {
   "cell_type": "code",
   "execution_count": null,
   "id": "bdc76962-3cdd-4fc8-9f38-0a4033f975d7",
   "metadata": {},
   "outputs": [],
   "source": []
  },
  {
   "cell_type": "code",
   "execution_count": null,
   "id": "782c920b-0eaf-41c8-baa1-ae0e9a3a6319",
   "metadata": {},
   "outputs": [],
   "source": []
  },
  {
   "cell_type": "code",
   "execution_count": null,
   "id": "dd873b62-c590-4b8b-96b3-34d9bad8afee",
   "metadata": {},
   "outputs": [],
   "source": []
  },
  {
   "cell_type": "code",
   "execution_count": null,
   "id": "0a308a75-9afa-4354-8732-8c1a52345d6b",
   "metadata": {},
   "outputs": [],
   "source": []
  },
  {
   "cell_type": "code",
   "execution_count": null,
   "id": "b1cbcaff-c5b6-4da7-bd0e-3f182ef8c93b",
   "metadata": {},
   "outputs": [],
   "source": []
  },
  {
   "cell_type": "markdown",
   "id": "19eb460d-c96d-4f38-9d87-e325f6a4a860",
   "metadata": {},
   "source": [
    "## EXTRA CODE"
   ]
  },
  {
   "cell_type": "code",
   "execution_count": null,
   "id": "2d9fde83-cc8a-4907-b76e-dd13cea08443",
   "metadata": {},
   "outputs": [],
   "source": [
    "#unique_count = df_oscars[df_oscars['Won_Oscars'] == False].count()\n",
    "#unique_count"
   ]
  },
  {
   "cell_type": "code",
   "execution_count": null,
   "id": "f6a8bbfd-8429-4014-ba80-70dc09b03fb9",
   "metadata": {},
   "outputs": [],
   "source": [
    "#df_oscars =  pd.merge(df_result,df[['Movie Title','Won_Oscars', 'Released']],on='Movie Title', how='left')\n",
    "#df_win =  pd.merge(df_win,df[['Movie Title','Won_Oscars', 'Released']],on='Movie Title', how='left')\n",
    "#df_win1 = pd.merge(df_win1,df[['Movie Title','Won_Oscars', 'Released']],on='Movie Title', how='left')\n",
    "#df_win2 = pd.merge(df_win2,df[['Movie Title','Won_Oscars', 'Released']],on='Movie Title', how='left')\n",
    "#df_nom =  pd.merge(df_nom,df[['Movie Title','Won_Oscars', 'Released']],on='Movie Title', how='left')"
   ]
  },
  {
   "cell_type": "code",
   "execution_count": null,
   "id": "01a50354-8020-4ea8-9978-64cbca16d328",
   "metadata": {},
   "outputs": [],
   "source": [
    "#df_sam.loc[:, 'three_months'] = df_sam.loc[:,'Dates'] + pd.DateOffset(months=3)\n",
    "\n",
    "#df_sam.three_months = df_sam.Released + pd.DateOffset(months=3)\n",
    "#df_sam.six_months = df_sam.Released + pd.DateOffset(months=6)\n",
    "#df_sam.twelve_months = df_sam.Released + pd.DateOffset(months=12)"
   ]
  },
  {
   "cell_type": "code",
   "execution_count": 172,
   "id": "5d92d0ab-0203-40e8-a7a5-2e0a6d042756",
   "metadata": {},
   "outputs": [
    {
     "data": {
      "text/plain": [
       "Dates\n",
       "2005Q4       1\n",
       "2006Q3      37\n",
       "2006Q4       3\n",
       "2007Q2       2\n",
       "2007Q3       6\n",
       "          ... \n",
       "2023Q2    1914\n",
       "2023Q3    3220\n",
       "2023Q4    3339\n",
       "2024Q1    1461\n",
       "2024Q2      75\n",
       "Freq: Q-DEC, Name: count, Length: 72, dtype: int64"
      ]
     },
     "execution_count": 172,
     "metadata": {},
     "output_type": "execute_result"
    }
   ],
   "source": [
    "df_oscars.groupby(df_oscars['Dates'].dt.to_period('Q'))['count'].sum()"
   ]
  },
  {
   "cell_type": "code",
   "execution_count": 145,
   "id": "5bae8a96-21bf-4996-8ea4-39355153d59c",
   "metadata": {},
   "outputs": [],
   "source": [
    "df_p = df_sample.groupby(pd.to_datetime(df_sample['Dates'], format='%b-%Y').dt.to_period('Q'))['Movie Title'].count()"
   ]
  },
  {
   "cell_type": "code",
   "execution_count": 146,
   "id": "8116f5eb-eb95-49cc-9c10-f1c5d578bb62",
   "metadata": {},
   "outputs": [
    {
     "data": {
      "text/plain": [
       "Dates\n",
       "2010Q3     13\n",
       "2010Q4    108\n",
       "2013Q3     29\n",
       "2013Q4    180\n",
       "2014Q1     44\n",
       "2014Q2      2\n",
       "2014Q3      4\n",
       "2014Q4      1\n",
       "2015Q1     25\n",
       "2015Q2      1\n",
       "2015Q3      1\n",
       "2015Q4      1\n",
       "2016Q1      7\n",
       "2016Q2      4\n",
       "2016Q3      1\n",
       "2017Q1     10\n",
       "2017Q3      3\n",
       "2017Q4      2\n",
       "2018Q1     18\n",
       "2018Q3      6\n",
       "2018Q4      4\n",
       "2019Q1      4\n",
       "2019Q2      4\n",
       "2019Q3      4\n",
       "2019Q4      1\n",
       "2020Q2      2\n",
       "2020Q3      4\n",
       "2020Q4      1\n",
       "2021Q1      5\n",
       "2021Q3      2\n",
       "2022Q1      2\n",
       "2022Q2      1\n",
       "2022Q3      2\n",
       "2023Q1      1\n",
       "2023Q2      2\n",
       "2024Q1      1\n",
       "Freq: Q-DEC, Name: Movie Title, dtype: int64"
      ]
     },
     "execution_count": 146,
     "metadata": {},
     "output_type": "execute_result"
    }
   ],
   "source": [
    "#df_p = pd.DataFrame(df_p)\n",
    "df_p"
   ]
  },
  {
   "cell_type": "code",
   "execution_count": 195,
   "id": "55d6f573-f92e-40ee-9e7c-b47ce9d45604",
   "metadata": {},
   "outputs": [
    {
     "name": "stderr",
     "output_type": "stream",
     "text": [
      "/tmp/ipykernel_2331/3180660478.py:4: FutureWarning: 'M' is deprecated and will be removed in a future version, please use 'ME' instead.\n",
      "  for x in pd.date_range(start='2019-07-01', end='2024-01-27', freq='3M'):\n"
     ]
    },
    {
     "data": {
      "text/plain": [
       "['2019-07-31',\n",
       " '2019-10-31',\n",
       " '2020-01-31',\n",
       " '2020-04-30',\n",
       " '2020-07-31',\n",
       " '2020-10-31',\n",
       " '2021-01-31',\n",
       " '2021-04-30',\n",
       " '2021-07-31',\n",
       " '2021-10-31',\n",
       " '2022-01-31',\n",
       " '2022-04-30',\n",
       " '2022-07-31',\n",
       " '2022-10-31',\n",
       " '2023-01-31',\n",
       " '2023-04-30',\n",
       " '2023-07-31',\n",
       " '2023-10-31']"
      ]
     },
     "execution_count": 195,
     "metadata": {},
     "output_type": "execute_result"
    }
   ],
   "source": [
    "new_df = pd.DataFrame(new_list, columns=['Dates'])\n",
    "def getLabels(new_df):\n",
    "    labels =[]\n",
    "    for x in pd.date_range(start='2019-07-01', end='2024-01-27', freq='3M'):\n",
    "        labels.append(str(x).replace(\" 00:00:00\",\"\"))\n",
    "    return labels\n",
    "labels = getLabels(new_df)\n",
    "labels"
   ]
  },
  {
   "cell_type": "code",
   "execution_count": null,
   "id": "783485b6-4cf5-4e3a-9ae5-58c3f80dcff6",
   "metadata": {},
   "outputs": [],
   "source": [
    "\n",
    "# EXTRA CODE\n",
    "df['Critic_Review'] = df.apply(lambda x: f'{x['Author']} from {x['Journal']}: {x['Reviews']}', axis=1)\n",
    "df.drop( ['Reviews','Journal','Outlier_Reviews_Amount_(True/False)','Reviews'], axis=1,inplace= True)\n",
    "positive_negative_counts = pf.get_dummies(df['Positive_Negative'].groupby(df['Movie_Title']).sum().reset_index()\n",
    "combined_reviews= df.groupby('Movie_Title')['Critic_Review'].apply(lambda x:' | '.join(x)).reset_index()\n",
    "list_of_review_dates = df.groupby('Movie_Title').agg({'Review_Date' : lambda x: list(x)}).reset_index()\n",
    "df_step = pd.merge(combined_reviews, positive_negative_counts, on='Movie_Title')\n",
    "df_step = pf.merge(df_step, list_of_review_dates, on='Movie_Title')\n",
    "aggregated_df_B = df_B.groupby('Movie_Title').first().reset_index()\n",
    "df_B = pd.merge(aggregated_df_B, df_step, on = 'Movie_Title')\n",
    "df_merged_cb = pd.merge(df_C, df_B, on='Title', how='outer')\n",
    "final_df = pd.merge(df_merged_cb, df_A, on='Title', how='outer')"
   ]
  },
  {
   "cell_type": "code",
   "execution_count": null,
   "id": "26e8c922-9992-4a9f-9f1d-4a4672c3f542",
   "metadata": {},
   "outputs": [],
   "source": [
    "df_A.insert(1,'Nominees', True)\n",
    "df_A.insert(1,'Won 1 Oscar', True)\n",
    "df_A.insert(1,'Won 2 or more Oscars', True)\n",
    "\n",
    "def find_winners_nominees (df_A):\n",
    "    count_nominee = 0\n",
    "    count_1_win = 0\n",
    "    count_2_win = 0\n",
    "    #diff_count = 0\n",
    "    for row_index, row in df_A.iterrows(): \n",
    "        if str(row[2:36]) == 'Nominated' and str(row[2:36]) != 'Winner':\n",
    "            row['Nominees'] = True \n",
    "        elif str(row[2:36]) != 'Winner':\n",
    "        diff_count = diff_count+1\n",
    "            if diff_count >= 2:\n",
    "                row['Won 2 or more Oscars'] = True\n",
    "            else :\n",
    "                row['Won 1 Oscar'] = True\n",
    "df_A = find_winners_nominees(df_A)\n",
    "df_A"
   ]
  },
  {
   "cell_type": "code",
   "execution_count": 319,
   "id": "132a7032-bc53-4357-aa15-f8e04d52851a",
   "metadata": {},
   "outputs": [
    {
     "data": {
      "text/plain": [
       "RangeIndex(start=0, stop=851, step=1)"
      ]
     },
     "execution_count": 319,
     "metadata": {},
     "output_type": "execute_result"
    }
   ],
   "source": [
    "df = pd.read_csv('merged.csv', low_memory=False)"
   ]
  },
  {
   "cell_type": "code",
   "execution_count": null,
   "id": "e582015a-bce7-4644-a9f7-286d8dbfc46e",
   "metadata": {},
   "outputs": [],
   "source": [
    "#### Engagement Analysis ####\n",
    "from datetime import datetime\n",
    "#from datetime import datetime, date\n",
    "#import datetime\n",
    "from dateutil import parser\n",
    "import seaborn as sns\n",
    "import plotly.express as px\n",
    "import matplotlib.pyplot as plt\n",
    "\n",
    "#we separate the winners from the nominated\n",
    "df = pd.read_csv('merged.csv', low_memory=False)\n",
    "df_winners = df.loc[df.Oscars_Won>=1]\n",
    "df_winners_1 = df.loc[df.Oscars_Won==1]\n",
    "df_winners_2 = df.loc[df.Oscars_Won>=2]\n",
    "df_nominees = df.loc[df.Oscars_Won==0]\n",
    "\n",
    "# We plot the amounts of reviews over time for the outlier movie with the most reviews (Joker, 2019) \n",
    "\n",
    "#First we extract the dates in the cell for review dates:\n",
    "Joker_data = df.loc[df['Movie Title']=='Joker']\n",
    "Jojo_Rabbit_data =df.loc[df['Movie Title']=='Jojo Rabbit']\n",
    "list = [date for date in str(Joker_data['Review_Date']).split(',')]\n",
    "list2 = [date for date in str(Jojo_Rabbit_data['Review_Date']).split(',')]\n",
    "\n",
    "\n",
    "\n",
    "\n",
    "new_list=[]\n",
    "for time in list2:\n",
    "    match = re.search(r'\\d{4}-\\d{2}-\\d{2}', time)\n",
    "    try:\n",
    "        match= match.group()\n",
    "        match= datetime.strptime(match,'%Y-%m-%d').date()\n",
    "    except AttributeError:\n",
    "        continue\n",
    "    #match = pd.to_datetime(match, errors='coerce')\n",
    "    new_list.append(match)\n",
    "new_list\n",
    "\n",
    "new_df = pd.DataFrame(new_list, columns=['Dates'])\n",
    "\n",
    "#today = datetime.date.today()\n",
    "#new_df['days ago'] = (today - new_df['Dates']).dt.months\n",
    "#new_df['Dates'] = pd.to_datetime(new_df['Dates'])\n",
    "#s =  (pd.to_datetime('today').normalize() - new_df['Dates']).datetime.month\n",
    "#new_df['Date_Bin'] = pd.cut(s, [0, 6, 12, 18, 24, 30, 36,42, np.inf])\n",
    "\n",
    "my_plot = sns.histplot(data=new_list, bins=20, kde=True)\n",
    "my_plot.set_ylim(0, 21)\n",
    "#my_plot.set_xlim(datetime.date(2021, 1, 1))\n",
    "#my_plot.autofmt_xdate()\n",
    "#my_plot.set_xticklabels(labels, freq=\"QE\"), rotation=45)\n",
    "  \n",
    "#new_df = pd.DataFrame(new_list, columns=['Dates'])\n",
    "#group = new_df.groupby('Dates').size().reset_index()\n",
    "#group = group.sort_values('Dates')\n",
    "#group.rename({0:'count'}, axis = 'columns', inplace = True)\n",
    "#fig = px.bar(x='Dates', y = 'count')\n",
    "#fig.show()\n",
    "#plt.show()\n",
    "#sns.scatterplot(new_list)\n",
    "    #parser.parse(time,fuzzy=True)\n",
    "    #date_obj = datetime.strptime(time, date_format)\n",
    "    #print(date_obj)\n"
   ]
  },
  {
   "cell_type": "code",
   "execution_count": null,
   "id": "8ec5cde5-c84c-453b-9f00-f83ae8a87a74",
   "metadata": {},
   "outputs": [],
   "source": [
    "df_red_ex.astype({'0-3 months':int, '3-6 months':int, '6-12 months':int})"
   ]
  }
 ],
 "metadata": {
  "kernelspec": {
   "display_name": "Python 3 (ipykernel)",
   "language": "python",
   "name": "python3"
  },
  "language_info": {
   "codemirror_mode": {
    "name": "ipython",
    "version": 3
   },
   "file_extension": ".py",
   "mimetype": "text/x-python",
   "name": "python",
   "nbconvert_exporter": "python",
   "pygments_lexer": "ipython3",
   "version": "3.10.12"
  }
 },
 "nbformat": 4,
 "nbformat_minor": 5
}
